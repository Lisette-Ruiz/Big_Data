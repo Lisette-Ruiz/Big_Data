{
 "cells": [
  {
   "cell_type": "markdown",
   "metadata": {},
   "source": [
    "# Designing Data-Intensive Applications\n",
    "\n",
    "This is a summary of chapters 1 of \"Designing Data-Intensive Applications\" by Martin Kleppmann"
   ]
  },
  {
   "cell_type": "markdown",
   "metadata": {},
   "source": [
    "## Chapter 1: Reliable, Scalable, and Maintainable Applications\n",
    "\n",
    "**1. What are some of the factors that may influence the design of a data system?**\n",
    " The skills and experience of the people involved, legacy system dependencies, the timescale for delivery, your organization’s tolerance of different kinds of risk, and regulatory constraints.\n",
    " \n",
    "**2. What does reliability refer to?**\n",
    "The system should continue to work correctly (performing the correct function at the desired level of performance) even in the face of adversity (hardware or software faults, and even human error). \n",
    "\n",
    "**3. What does scalability refer to?**\n",
    "As the system grows (in data volume, traffic volume, or complexity), there should be reasonable ways of dealing with that growth. \n",
    "\n",
    "**4. What does maintainability refer to?**\n",
    "Over time, many different people will work on the system (engineering and oper‐\n",
    "ations, both maintaining current behavior and adapting the system to new use\n",
    "cases), and they should all be able to work on it productively.  \n",
    "\n",
    "**5. What are fault-tolerant systems?**\n",
    "Systems that anticipate faults and can cope with them are called fault-tolerant or resilient. \n",
    "\n",
    "**6. What is the difference between a fault and a failure?**\n",
    " A fault is usually defined as one component of the system deviating from its spec, whereas a failure is when the system as a whole stops providing the required service to the user.\n",
    " \n",
    "**7. How can you exercise and test a fault-tolerant machine?**\n",
    "Many critical bugs are actually due to poor error handling; by deliberately inducing faults, you ensure that the fault-tolerance machinery is continually exercised and tested, which can increase your confidence that faults will be handled correctly when they occur naturally. The Netflix Chaos Monkey is an example of this approach.\n",
    "\n",
    "**8. What are some tools similar to Chaos Monkey?**\n",
    "Some particularly useful Chaos Monkey alternatives for Windows are the Fault Analysis Service for Azure Service Fabric, Gremlin’s Failure as a Service for Docker, and Muxy for private cloud infrastructures.\n",
    "(retrieved from: https://www.gremlin.com/chaos-monkey/chaos-monkey-alternatives/)\n",
    "\n",
    "**9. Examples of a systematic software error**\n",
    "* A software bug that causes every instance of an application server to crash when given a particular bad input. For example, consider the leap second on June 30, 2012, that caused many applications to hang simultaneously due to a bug in the Linux kernel.\n",
    "* A service that the system depends on that slows down, becomes unresponsive, or starts returning corrupted responses.\n",
    "* Cascading failures, where a small fault in one component triggers a fault in another component, which in turn triggers further faults.\n",
    "\n",
    "**10. What can be done in order to solve systematic faults in software?**\n",
    "Carefully thinking about assumptions and interactions in the system; thorough testing; process isolation; allowing processes to crash and restart; measuring, monitoring, and analyzing system behavior in production. If a system is expected to provide some guarantee (for example, in a message queue, that the number of incoming messages equals the number of outgoing messages), it can constantly check itself while it is running and raise an alert if a discrepancy is found. \n",
    "\n",
    "**11. Is there any risk in the use of well-designed abstractions, APIs, and admin interfaces for minimizing human errors?**\n",
    "Well-designed abstractions, APIs, and admin interfaces make it easy to do “the right thing” and discourage “the wrong thing.” However, if the interfaces are too restrictive people will work around them, negating their benefit, so this is a tricky\n",
    "balance to get right.\n",
    "\n",
    "**12. What is the difference between latency and response time?**\n",
    "Latency and response time are often used synonymously, but theyare not the same. The response time is what the client sees: besides the actual time to process the request (the service time), it includes network delays and queueing delays. Latency is the duration that a request is waiting to be handled—during which it is latent, awaiting service.\n",
    "\n",
    "**13. Why is it important to think of the response time as a distribution of values rather than a single value?**\n",
    "Even if you only make the same request over and over again, you’ll get a slightly different response time on every try. In practice, in a system handling a variety of requests, the response time can vary a lot. We therefore need to think of response time not as a single number, but as a distribution of values that you can measure.\n",
    "\n",
    "**14. Why are tail latencies so important?**\n",
    "High percentiles of response times, also known as tail latencies, are important because they directly affect users’ experience of the service. \n",
    "\n",
    "**15. What are the 3 design principles for software systems?**\n",
    "* Operability: Make it easy for operations teams to keep the system running smoothly.\n",
    "* Simplicity: Make it easy for new engineers to understand the system, by removing as much complexity as possible from the system. (Note this is not the same as simplicity of the user interface.)\n",
    "* Evolvability: Make it easy for engineers to make changes to the system in the future, adapting it for unanticipated use cases as requirements change. Also known as extensibility, modifiability, or plasticity.\n",
    "\n"
   ]
  },
  {
   "cell_type": "code",
   "execution_count": null,
   "metadata": {},
   "outputs": [],
   "source": []
  }
 ],
 "metadata": {
  "kernelspec": {
   "display_name": "Python 3",
   "language": "python",
   "name": "python3"
  },
  "language_info": {
   "codemirror_mode": {
    "name": "ipython",
    "version": 3
   },
   "file_extension": ".py",
   "mimetype": "text/x-python",
   "name": "python",
   "nbconvert_exporter": "python",
   "pygments_lexer": "ipython3",
   "version": "3.7.1"
  }
 },
 "nbformat": 4,
 "nbformat_minor": 2
}
